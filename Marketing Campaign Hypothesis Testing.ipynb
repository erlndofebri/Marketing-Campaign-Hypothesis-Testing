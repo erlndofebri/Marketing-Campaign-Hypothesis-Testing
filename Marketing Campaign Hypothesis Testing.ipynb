{
 "cells": [
  {
   "cell_type": "markdown",
   "id": "4cbada1b",
   "metadata": {},
   "source": [
    "# Import Libraries"
   ]
  },
  {
   "cell_type": "code",
   "execution_count": 65,
   "id": "870f5523",
   "metadata": {
    "ExecuteTime": {
     "end_time": "2022-07-11T06:57:40.593780Z",
     "start_time": "2022-07-11T06:57:40.584953Z"
    }
   },
   "outputs": [],
   "source": [
    "import pandas as pd\n",
    "import matplotlib.pyplot as plt\n",
    "import seaborn as sns\n",
    "import numpy as np\n",
    "from scipy import stats\n",
    "\n",
    "# Matplolib default parameters\n",
    "from matplotlib import rcParams\n",
    "plt.style.use('default')\n",
    "plt.rcParams['axes.prop_cycle'] = plt.rcParamsDefault['axes.prop_cycle']\n",
    "\n",
    "# import warning\n",
    "import warnings\n",
    "warnings.filterwarnings('ignore')"
   ]
  },
  {
   "cell_type": "markdown",
   "id": "58ca1411",
   "metadata": {},
   "source": [
    "# Dataset Overview"
   ]
  },
  {
   "cell_type": "code",
   "execution_count": 2,
   "id": "a6d4ad86",
   "metadata": {
    "ExecuteTime": {
     "end_time": "2022-07-11T06:18:09.335181Z",
     "start_time": "2022-07-11T06:18:09.282068Z"
    }
   },
   "outputs": [
    {
     "data": {
      "text/html": [
       "<div>\n",
       "<style scoped>\n",
       "    .dataframe tbody tr th:only-of-type {\n",
       "        vertical-align: middle;\n",
       "    }\n",
       "\n",
       "    .dataframe tbody tr th {\n",
       "        vertical-align: top;\n",
       "    }\n",
       "\n",
       "    .dataframe thead th {\n",
       "        text-align: right;\n",
       "    }\n",
       "</style>\n",
       "<table border=\"1\" class=\"dataframe\">\n",
       "  <thead>\n",
       "    <tr style=\"text-align: right;\">\n",
       "      <th></th>\n",
       "      <th>MarketID</th>\n",
       "      <th>MarketSize</th>\n",
       "      <th>LocationID</th>\n",
       "      <th>AgeOfStore</th>\n",
       "      <th>Promotion</th>\n",
       "      <th>week</th>\n",
       "      <th>SalesInThousands</th>\n",
       "    </tr>\n",
       "  </thead>\n",
       "  <tbody>\n",
       "    <tr>\n",
       "      <th>0</th>\n",
       "      <td>1</td>\n",
       "      <td>Medium</td>\n",
       "      <td>1</td>\n",
       "      <td>4</td>\n",
       "      <td>3</td>\n",
       "      <td>1</td>\n",
       "      <td>33.73</td>\n",
       "    </tr>\n",
       "    <tr>\n",
       "      <th>1</th>\n",
       "      <td>1</td>\n",
       "      <td>Medium</td>\n",
       "      <td>1</td>\n",
       "      <td>4</td>\n",
       "      <td>3</td>\n",
       "      <td>2</td>\n",
       "      <td>35.67</td>\n",
       "    </tr>\n",
       "    <tr>\n",
       "      <th>2</th>\n",
       "      <td>1</td>\n",
       "      <td>Medium</td>\n",
       "      <td>1</td>\n",
       "      <td>4</td>\n",
       "      <td>3</td>\n",
       "      <td>3</td>\n",
       "      <td>29.03</td>\n",
       "    </tr>\n",
       "    <tr>\n",
       "      <th>3</th>\n",
       "      <td>1</td>\n",
       "      <td>Medium</td>\n",
       "      <td>1</td>\n",
       "      <td>4</td>\n",
       "      <td>3</td>\n",
       "      <td>4</td>\n",
       "      <td>39.25</td>\n",
       "    </tr>\n",
       "    <tr>\n",
       "      <th>4</th>\n",
       "      <td>1</td>\n",
       "      <td>Medium</td>\n",
       "      <td>2</td>\n",
       "      <td>5</td>\n",
       "      <td>2</td>\n",
       "      <td>1</td>\n",
       "      <td>27.81</td>\n",
       "    </tr>\n",
       "    <tr>\n",
       "      <th>...</th>\n",
       "      <td>...</td>\n",
       "      <td>...</td>\n",
       "      <td>...</td>\n",
       "      <td>...</td>\n",
       "      <td>...</td>\n",
       "      <td>...</td>\n",
       "      <td>...</td>\n",
       "    </tr>\n",
       "    <tr>\n",
       "      <th>543</th>\n",
       "      <td>10</td>\n",
       "      <td>Large</td>\n",
       "      <td>919</td>\n",
       "      <td>2</td>\n",
       "      <td>1</td>\n",
       "      <td>4</td>\n",
       "      <td>64.34</td>\n",
       "    </tr>\n",
       "    <tr>\n",
       "      <th>544</th>\n",
       "      <td>10</td>\n",
       "      <td>Large</td>\n",
       "      <td>920</td>\n",
       "      <td>14</td>\n",
       "      <td>2</td>\n",
       "      <td>1</td>\n",
       "      <td>50.20</td>\n",
       "    </tr>\n",
       "    <tr>\n",
       "      <th>545</th>\n",
       "      <td>10</td>\n",
       "      <td>Large</td>\n",
       "      <td>920</td>\n",
       "      <td>14</td>\n",
       "      <td>2</td>\n",
       "      <td>2</td>\n",
       "      <td>45.75</td>\n",
       "    </tr>\n",
       "    <tr>\n",
       "      <th>546</th>\n",
       "      <td>10</td>\n",
       "      <td>Large</td>\n",
       "      <td>920</td>\n",
       "      <td>14</td>\n",
       "      <td>2</td>\n",
       "      <td>3</td>\n",
       "      <td>44.29</td>\n",
       "    </tr>\n",
       "    <tr>\n",
       "      <th>547</th>\n",
       "      <td>10</td>\n",
       "      <td>Large</td>\n",
       "      <td>920</td>\n",
       "      <td>14</td>\n",
       "      <td>2</td>\n",
       "      <td>4</td>\n",
       "      <td>49.41</td>\n",
       "    </tr>\n",
       "  </tbody>\n",
       "</table>\n",
       "<p>548 rows × 7 columns</p>\n",
       "</div>"
      ],
      "text/plain": [
       "     MarketID MarketSize  LocationID  AgeOfStore  Promotion  week  \\\n",
       "0           1     Medium           1           4          3     1   \n",
       "1           1     Medium           1           4          3     2   \n",
       "2           1     Medium           1           4          3     3   \n",
       "3           1     Medium           1           4          3     4   \n",
       "4           1     Medium           2           5          2     1   \n",
       "..        ...        ...         ...         ...        ...   ...   \n",
       "543        10      Large         919           2          1     4   \n",
       "544        10      Large         920          14          2     1   \n",
       "545        10      Large         920          14          2     2   \n",
       "546        10      Large         920          14          2     3   \n",
       "547        10      Large         920          14          2     4   \n",
       "\n",
       "     SalesInThousands  \n",
       "0               33.73  \n",
       "1               35.67  \n",
       "2               29.03  \n",
       "3               39.25  \n",
       "4               27.81  \n",
       "..                ...  \n",
       "543             64.34  \n",
       "544             50.20  \n",
       "545             45.75  \n",
       "546             44.29  \n",
       "547             49.41  \n",
       "\n",
       "[548 rows x 7 columns]"
      ]
     },
     "execution_count": 2,
     "metadata": {},
     "output_type": "execute_result"
    }
   ],
   "source": [
    "data = pd.read_csv('Marketing-Campaign.csv')\n",
    "data"
   ]
  },
  {
   "cell_type": "markdown",
   "id": "14618af8",
   "metadata": {},
   "source": [
    "## Dictionary"
   ]
  },
  {
   "cell_type": "markdown",
   "id": "a8f089b5",
   "metadata": {
    "ExecuteTime": {
     "end_time": "2022-07-11T06:19:02.396807Z",
     "start_time": "2022-07-11T06:19:02.380074Z"
    }
   },
   "source": [
    "A/B Testing Marketing Promotions\n",
    "Which promotion was the most effective?\n",
    "\n",
    "Scenario:\n",
    "\n",
    "A fast food chain plans to add a new item to its menu. However, they are still undecided between three possible marketing campaigns for promoting the new product. In order to determine which promotion has the greatest effect on sales, the new item is introduced at locations in several randomly selected markets. A different promotion is used at each location, and the weekly sales of the new item are recorded for the first four weeks\n",
    "\n",
    "The description of the data set: Our data set consists of 548 entries including:\n",
    "\n",
    "- `MarketId`: an inhouse tag used to describe market types, we won't be using it\n",
    "- `AgeOfStores`: Age of store in years (1–28). The mean age of a store is 8.5 years.\n",
    "- `LocationID`: Unique identifier for store location. Each location is identified by a number. The total number of stores is 137.\n",
    "- `Promotion`: One of three promotions that were tested (1, 2, 3). We don’t really know the specifics of each promotion.\n",
    "- `Sales in Thousands`: Sales amount for a specific LocationID, Promotion and week. The mean amount of sales are 53.5 thousand dollars.\n",
    "- `Market` size: there are three types of market size: small, medium and large.\n",
    "- `Week`: One of four weeks when the promotions were run (1–4)."
   ]
  },
  {
   "cell_type": "markdown",
   "id": "9d95b4f5",
   "metadata": {},
   "source": [
    "# Exploratory Data Analysis"
   ]
  },
  {
   "cell_type": "code",
   "execution_count": 6,
   "id": "dbf2a6f4",
   "metadata": {
    "ExecuteTime": {
     "end_time": "2022-07-11T06:21:41.711847Z",
     "start_time": "2022-07-11T06:21:41.664198Z"
    }
   },
   "outputs": [
    {
     "data": {
      "text/html": [
       "<div>\n",
       "<style scoped>\n",
       "    .dataframe tbody tr th:only-of-type {\n",
       "        vertical-align: middle;\n",
       "    }\n",
       "\n",
       "    .dataframe tbody tr th {\n",
       "        vertical-align: top;\n",
       "    }\n",
       "\n",
       "    .dataframe thead th {\n",
       "        text-align: right;\n",
       "    }\n",
       "</style>\n",
       "<table border=\"1\" class=\"dataframe\">\n",
       "  <thead>\n",
       "    <tr style=\"text-align: right;\">\n",
       "      <th></th>\n",
       "      <th>feature</th>\n",
       "      <th>data_type</th>\n",
       "      <th>null_num</th>\n",
       "      <th>null_pct</th>\n",
       "      <th>unique_num</th>\n",
       "      <th>unique_sample</th>\n",
       "    </tr>\n",
       "  </thead>\n",
       "  <tbody>\n",
       "    <tr>\n",
       "      <th>0</th>\n",
       "      <td>MarketID</td>\n",
       "      <td>int64</td>\n",
       "      <td>0</td>\n",
       "      <td>0.0</td>\n",
       "      <td>10</td>\n",
       "      <td>[1, 2, 3, 4]</td>\n",
       "    </tr>\n",
       "    <tr>\n",
       "      <th>1</th>\n",
       "      <td>MarketSize</td>\n",
       "      <td>object</td>\n",
       "      <td>0</td>\n",
       "      <td>0.0</td>\n",
       "      <td>3</td>\n",
       "      <td>[Medium, Small, Large]</td>\n",
       "    </tr>\n",
       "    <tr>\n",
       "      <th>2</th>\n",
       "      <td>LocationID</td>\n",
       "      <td>int64</td>\n",
       "      <td>0</td>\n",
       "      <td>0.0</td>\n",
       "      <td>137</td>\n",
       "      <td>[1, 2, 3, 4]</td>\n",
       "    </tr>\n",
       "    <tr>\n",
       "      <th>3</th>\n",
       "      <td>AgeOfStore</td>\n",
       "      <td>int64</td>\n",
       "      <td>0</td>\n",
       "      <td>0.0</td>\n",
       "      <td>25</td>\n",
       "      <td>[4, 5, 12, 1]</td>\n",
       "    </tr>\n",
       "    <tr>\n",
       "      <th>4</th>\n",
       "      <td>Promotion</td>\n",
       "      <td>int64</td>\n",
       "      <td>0</td>\n",
       "      <td>0.0</td>\n",
       "      <td>3</td>\n",
       "      <td>[3, 2, 1]</td>\n",
       "    </tr>\n",
       "    <tr>\n",
       "      <th>5</th>\n",
       "      <td>week</td>\n",
       "      <td>int64</td>\n",
       "      <td>0</td>\n",
       "      <td>0.0</td>\n",
       "      <td>4</td>\n",
       "      <td>[1, 2, 3, 4]</td>\n",
       "    </tr>\n",
       "    <tr>\n",
       "      <th>6</th>\n",
       "      <td>SalesInThousands</td>\n",
       "      <td>float64</td>\n",
       "      <td>0</td>\n",
       "      <td>0.0</td>\n",
       "      <td>517</td>\n",
       "      <td>[33.73, 35.67, 29.03, 39.25]</td>\n",
       "    </tr>\n",
       "  </tbody>\n",
       "</table>\n",
       "</div>"
      ],
      "text/plain": [
       "            feature data_type  null_num  null_pct  unique_num  \\\n",
       "0          MarketID     int64         0       0.0          10   \n",
       "1        MarketSize    object         0       0.0           3   \n",
       "2        LocationID     int64         0       0.0         137   \n",
       "3        AgeOfStore     int64         0       0.0          25   \n",
       "4         Promotion     int64         0       0.0           3   \n",
       "5              week     int64         0       0.0           4   \n",
       "6  SalesInThousands   float64         0       0.0         517   \n",
       "\n",
       "                  unique_sample  \n",
       "0                  [1, 2, 3, 4]  \n",
       "1        [Medium, Small, Large]  \n",
       "2                  [1, 2, 3, 4]  \n",
       "3                 [4, 5, 12, 1]  \n",
       "4                     [3, 2, 1]  \n",
       "5                  [1, 2, 3, 4]  \n",
       "6  [33.73, 35.67, 29.03, 39.25]  "
      ]
     },
     "execution_count": 6,
     "metadata": {},
     "output_type": "execute_result"
    }
   ],
   "source": [
    "# Create Data Info\n",
    "\n",
    "list_item = []\n",
    "for col in data.columns:\n",
    "    list_item.append([col, data[col].dtype, data[col].isna().sum(), 100*data[col].isna().sum()/len(data[col]), data[col].nunique(), data[col].unique()[:4]])\n",
    "desc_df = pd.DataFrame(data=list_item, columns='feature data_type null_num null_pct unique_num unique_sample'.split())\n",
    "desc_df"
   ]
  },
  {
   "cell_type": "markdown",
   "id": "630d625a",
   "metadata": {},
   "source": [
    "## Descriptive Statistic"
   ]
  },
  {
   "cell_type": "code",
   "execution_count": 9,
   "id": "d1780541",
   "metadata": {
    "ExecuteTime": {
     "end_time": "2022-07-11T06:23:28.194752Z",
     "start_time": "2022-07-11T06:23:28.186115Z"
    }
   },
   "outputs": [],
   "source": [
    "# devide features by its data type\n",
    "num = data.select_dtypes(include='number').columns\n",
    "cat = data.select_dtypes(include='object').columns"
   ]
  },
  {
   "cell_type": "code",
   "execution_count": 16,
   "id": "db47813b",
   "metadata": {
    "ExecuteTime": {
     "end_time": "2022-07-11T06:24:32.022545Z",
     "start_time": "2022-07-11T06:24:32.015622Z"
    }
   },
   "outputs": [],
   "source": [
    "eda = data.copy()"
   ]
  },
  {
   "cell_type": "code",
   "execution_count": 17,
   "id": "92937889",
   "metadata": {
    "ExecuteTime": {
     "end_time": "2022-07-11T06:24:35.237943Z",
     "start_time": "2022-07-11T06:24:35.170811Z"
    }
   },
   "outputs": [
    {
     "data": {
      "text/html": [
       "<div>\n",
       "<style scoped>\n",
       "    .dataframe tbody tr th:only-of-type {\n",
       "        vertical-align: middle;\n",
       "    }\n",
       "\n",
       "    .dataframe tbody tr th {\n",
       "        vertical-align: top;\n",
       "    }\n",
       "\n",
       "    .dataframe thead th {\n",
       "        text-align: right;\n",
       "    }\n",
       "</style>\n",
       "<table border=\"1\" class=\"dataframe\">\n",
       "  <thead>\n",
       "    <tr style=\"text-align: right;\">\n",
       "      <th></th>\n",
       "      <th>count</th>\n",
       "      <th>mean</th>\n",
       "      <th>std</th>\n",
       "      <th>min</th>\n",
       "      <th>1%</th>\n",
       "      <th>5%</th>\n",
       "      <th>10%</th>\n",
       "      <th>25%</th>\n",
       "      <th>50%</th>\n",
       "      <th>75%</th>\n",
       "      <th>95%</th>\n",
       "      <th>99%</th>\n",
       "      <th>max</th>\n",
       "    </tr>\n",
       "  </thead>\n",
       "  <tbody>\n",
       "    <tr>\n",
       "      <th>MarketID</th>\n",
       "      <td>548.0</td>\n",
       "      <td>5.715328</td>\n",
       "      <td>2.877001</td>\n",
       "      <td>1.00</td>\n",
       "      <td>1.0000</td>\n",
       "      <td>1.0000</td>\n",
       "      <td>2.000</td>\n",
       "      <td>3.000</td>\n",
       "      <td>6.0</td>\n",
       "      <td>8.0000</td>\n",
       "      <td>10.000</td>\n",
       "      <td>10.0000</td>\n",
       "      <td>10.00</td>\n",
       "    </tr>\n",
       "    <tr>\n",
       "      <th>LocationID</th>\n",
       "      <td>548.0</td>\n",
       "      <td>479.656934</td>\n",
       "      <td>287.973679</td>\n",
       "      <td>1.00</td>\n",
       "      <td>2.0000</td>\n",
       "      <td>7.3500</td>\n",
       "      <td>101.000</td>\n",
       "      <td>216.000</td>\n",
       "      <td>504.0</td>\n",
       "      <td>708.0000</td>\n",
       "      <td>913.650</td>\n",
       "      <td>919.0000</td>\n",
       "      <td>920.00</td>\n",
       "    </tr>\n",
       "    <tr>\n",
       "      <th>AgeOfStore</th>\n",
       "      <td>548.0</td>\n",
       "      <td>8.503650</td>\n",
       "      <td>6.638345</td>\n",
       "      <td>1.00</td>\n",
       "      <td>1.0000</td>\n",
       "      <td>1.0000</td>\n",
       "      <td>1.000</td>\n",
       "      <td>4.000</td>\n",
       "      <td>7.0</td>\n",
       "      <td>12.0000</td>\n",
       "      <td>23.000</td>\n",
       "      <td>27.0000</td>\n",
       "      <td>28.00</td>\n",
       "    </tr>\n",
       "    <tr>\n",
       "      <th>Promotion</th>\n",
       "      <td>548.0</td>\n",
       "      <td>2.029197</td>\n",
       "      <td>0.810729</td>\n",
       "      <td>1.00</td>\n",
       "      <td>1.0000</td>\n",
       "      <td>1.0000</td>\n",
       "      <td>1.000</td>\n",
       "      <td>1.000</td>\n",
       "      <td>2.0</td>\n",
       "      <td>3.0000</td>\n",
       "      <td>3.000</td>\n",
       "      <td>3.0000</td>\n",
       "      <td>3.00</td>\n",
       "    </tr>\n",
       "    <tr>\n",
       "      <th>week</th>\n",
       "      <td>548.0</td>\n",
       "      <td>2.500000</td>\n",
       "      <td>1.119055</td>\n",
       "      <td>1.00</td>\n",
       "      <td>1.0000</td>\n",
       "      <td>1.0000</td>\n",
       "      <td>1.000</td>\n",
       "      <td>1.750</td>\n",
       "      <td>2.5</td>\n",
       "      <td>3.2500</td>\n",
       "      <td>4.000</td>\n",
       "      <td>4.0000</td>\n",
       "      <td>4.00</td>\n",
       "    </tr>\n",
       "    <tr>\n",
       "      <th>SalesInThousands</th>\n",
       "      <td>548.0</td>\n",
       "      <td>53.466204</td>\n",
       "      <td>16.755216</td>\n",
       "      <td>17.34</td>\n",
       "      <td>24.3154</td>\n",
       "      <td>30.6215</td>\n",
       "      <td>35.412</td>\n",
       "      <td>42.545</td>\n",
       "      <td>50.2</td>\n",
       "      <td>60.4775</td>\n",
       "      <td>88.458</td>\n",
       "      <td>94.6738</td>\n",
       "      <td>99.65</td>\n",
       "    </tr>\n",
       "  </tbody>\n",
       "</table>\n",
       "</div>"
      ],
      "text/plain": [
       "                  count        mean         std    min       1%       5%  \\\n",
       "MarketID          548.0    5.715328    2.877001   1.00   1.0000   1.0000   \n",
       "LocationID        548.0  479.656934  287.973679   1.00   2.0000   7.3500   \n",
       "AgeOfStore        548.0    8.503650    6.638345   1.00   1.0000   1.0000   \n",
       "Promotion         548.0    2.029197    0.810729   1.00   1.0000   1.0000   \n",
       "week              548.0    2.500000    1.119055   1.00   1.0000   1.0000   \n",
       "SalesInThousands  548.0   53.466204   16.755216  17.34  24.3154  30.6215   \n",
       "\n",
       "                      10%      25%    50%       75%      95%       99%     max  \n",
       "MarketID            2.000    3.000    6.0    8.0000   10.000   10.0000   10.00  \n",
       "LocationID        101.000  216.000  504.0  708.0000  913.650  919.0000  920.00  \n",
       "AgeOfStore          1.000    4.000    7.0   12.0000   23.000   27.0000   28.00  \n",
       "Promotion           1.000    1.000    2.0    3.0000    3.000    3.0000    3.00  \n",
       "week                1.000    1.750    2.5    3.2500    4.000    4.0000    4.00  \n",
       "SalesInThousands   35.412   42.545   50.2   60.4775   88.458   94.6738   99.65  "
      ]
     },
     "execution_count": 17,
     "metadata": {},
     "output_type": "execute_result"
    }
   ],
   "source": [
    "eda.describe(percentiles=[0.01,0.05,0.10,0.25,0.50,0.75,0.95,0.99]).T"
   ]
  },
  {
   "cell_type": "code",
   "execution_count": 18,
   "id": "add6e3d2",
   "metadata": {
    "ExecuteTime": {
     "end_time": "2022-07-11T06:24:37.954638Z",
     "start_time": "2022-07-11T06:24:37.927946Z"
    }
   },
   "outputs": [
    {
     "name": "stdout",
     "output_type": "stream",
     "text": [
      "<class 'pandas.core.frame.DataFrame'>\n",
      "RangeIndex: 548 entries, 0 to 547\n",
      "Data columns (total 7 columns):\n",
      " #   Column            Non-Null Count  Dtype  \n",
      "---  ------            --------------  -----  \n",
      " 0   MarketID          548 non-null    int64  \n",
      " 1   MarketSize        548 non-null    object \n",
      " 2   LocationID        548 non-null    int64  \n",
      " 3   AgeOfStore        548 non-null    int64  \n",
      " 4   Promotion         548 non-null    int64  \n",
      " 5   week              548 non-null    int64  \n",
      " 6   SalesInThousands  548 non-null    float64\n",
      "dtypes: float64(1), int64(5), object(1)\n",
      "memory usage: 30.1+ KB\n"
     ]
    }
   ],
   "source": [
    "eda.info()"
   ]
  },
  {
   "cell_type": "markdown",
   "id": "ff109174",
   "metadata": {},
   "source": [
    "## Univariate Analysis"
   ]
  },
  {
   "cell_type": "code",
   "execution_count": 15,
   "id": "b1c8e892",
   "metadata": {
    "ExecuteTime": {
     "end_time": "2022-07-11T06:24:11.253812Z",
     "start_time": "2022-07-11T06:24:11.243619Z"
    }
   },
   "outputs": [
    {
     "data": {
      "text/plain": [
       "Index(['AgeOfStore', 'Promotion', 'week', 'SalesInThousands'], dtype='object')"
      ]
     },
     "execution_count": 15,
     "metadata": {},
     "output_type": "execute_result"
    }
   ],
   "source": [
    "nums = num[2:]\n",
    "nums"
   ]
  },
  {
   "cell_type": "markdown",
   "id": "277e2502",
   "metadata": {},
   "source": [
    "### Boxplot"
   ]
  },
  {
   "cell_type": "code",
   "execution_count": 22,
   "id": "fbf5d050",
   "metadata": {
    "ExecuteTime": {
     "end_time": "2022-07-11T06:25:18.972512Z",
     "start_time": "2022-07-11T06:25:18.401475Z"
    }
   },
   "outputs": [
    {
     "data": {
      "image/png": "[encoded data removed]",
      "text/plain": [
       "<Figure size 800x600 with 4 Axes>"
      ]
     },
     "metadata": {},
     "output_type": "display_data"
    }
   ],
   "source": [
    "# Boxplot\n",
    "plt.figure(figsize=(8,6))\n",
    "for i in range(0, len(nums)):\n",
    "    plt.subplot(2,2,i+1)\n",
    "    sns.boxplot(x=eda[nums[i]], palette='viridis')\n",
    "    plt.title(nums[i], fontsize=12)\n",
    "    plt.xlabel(' ')\n",
    "    plt.tight_layout()"
   ]
  },
  {
   "cell_type": "markdown",
   "id": "61a73083",
   "metadata": {},
   "source": [
    "### Violinplot"
   ]
  },
  {
   "cell_type": "code",
   "execution_count": 23,
   "id": "c4f62409",
   "metadata": {
    "ExecuteTime": {
     "end_time": "2022-07-11T06:38:07.504505Z",
     "start_time": "2022-07-11T06:38:06.885270Z"
    }
   },
   "outputs": [
    {
     "data": {
      "image/png": "[encoded data removed]",
      "text/plain": [
       "<Figure size 800x600 with 4 Axes>"
      ]
     },
     "metadata": {},
     "output_type": "display_data"
    }
   ],
   "source": [
    "# Violinplot\n",
    "plt.figure(figsize=(8,6))\n",
    "for i in range(0, len(nums)):\n",
    "    plt.subplot(2,2,i+1)\n",
    "    sns.violinplot(x=eda[nums[i]], palette='viridis')\n",
    "    plt.title(nums[i], fontsize=12)\n",
    "    plt.xlabel(' ')\n",
    "    plt.tight_layout()"
   ]
  },
  {
   "cell_type": "markdown",
   "id": "12f29b70",
   "metadata": {},
   "source": [
    "### Countplot"
   ]
  },
  {
   "cell_type": "code",
   "execution_count": 32,
   "id": "7607285e",
   "metadata": {
    "ExecuteTime": {
     "end_time": "2022-07-11T06:40:54.623904Z",
     "start_time": "2022-07-11T06:40:54.363356Z"
    }
   },
   "outputs": [
    {
     "data": {
      "text/plain": [
       "Text(0.5, 1.0, 'Market Size')"
      ]
     },
     "execution_count": 32,
     "metadata": {},
     "output_type": "execute_result"
    },
    {
     "data": {
      "image/png": "[encoded data removed]",
      "text/plain": [
       "<Figure size 640x480 with 1 Axes>"
      ]
     },
     "metadata": {},
     "output_type": "display_data"
    }
   ],
   "source": [
    "sns.countplot(x=eda['MarketSize'], palette='viridis')\n",
    "plt.xlabel(' ')\n",
    "plt.title('Market Size', fontsize=15)"
   ]
  },
  {
   "cell_type": "markdown",
   "id": "d00ab06a",
   "metadata": {},
   "source": [
    "# Pre Processing"
   ]
  },
  {
   "cell_type": "markdown",
   "id": "c75f6552",
   "metadata": {},
   "source": [
    "## Check Missing Values"
   ]
  },
  {
   "cell_type": "code",
   "execution_count": 33,
   "id": "cfa5263d",
   "metadata": {
    "ExecuteTime": {
     "end_time": "2022-07-11T06:41:20.847211Z",
     "start_time": "2022-07-11T06:41:20.835225Z"
    }
   },
   "outputs": [
    {
     "data": {
      "text/plain": [
       "MarketID            0\n",
       "MarketSize          0\n",
       "LocationID          0\n",
       "AgeOfStore          0\n",
       "Promotion           0\n",
       "week                0\n",
       "SalesInThousands    0\n",
       "dtype: int64"
      ]
     },
     "execution_count": 33,
     "metadata": {},
     "output_type": "execute_result"
    }
   ],
   "source": [
    "data.isnull().sum()"
   ]
  },
  {
   "cell_type": "markdown",
   "id": "e9c60450",
   "metadata": {},
   "source": [
    "## Check Duplicated Values"
   ]
  },
  {
   "cell_type": "code",
   "execution_count": 34,
   "id": "e948c625",
   "metadata": {
    "ExecuteTime": {
     "end_time": "2022-07-11T06:41:37.147273Z",
     "start_time": "2022-07-11T06:41:37.132024Z"
    }
   },
   "outputs": [
    {
     "data": {
      "text/plain": [
       "0"
      ]
     },
     "execution_count": 34,
     "metadata": {},
     "output_type": "execute_result"
    }
   ],
   "source": [
    "data.duplicated().sum()"
   ]
  },
  {
   "cell_type": "markdown",
   "id": "2f601872",
   "metadata": {},
   "source": [
    "## Check Outlier"
   ]
  },
  {
   "cell_type": "code",
   "execution_count": 36,
   "id": "9bedee7f",
   "metadata": {
    "ExecuteTime": {
     "end_time": "2022-07-11T06:42:05.217828Z",
     "start_time": "2022-07-11T06:42:05.155670Z"
    }
   },
   "outputs": [
    {
     "data": {
      "text/html": [
       "<div>\n",
       "<style scoped>\n",
       "    .dataframe tbody tr th:only-of-type {\n",
       "        vertical-align: middle;\n",
       "    }\n",
       "\n",
       "    .dataframe tbody tr th {\n",
       "        vertical-align: top;\n",
       "    }\n",
       "\n",
       "    .dataframe thead th {\n",
       "        text-align: right;\n",
       "    }\n",
       "</style>\n",
       "<table border=\"1\" class=\"dataframe\">\n",
       "  <thead>\n",
       "    <tr style=\"text-align: right;\">\n",
       "      <th></th>\n",
       "      <th>count</th>\n",
       "      <th>mean</th>\n",
       "      <th>std</th>\n",
       "      <th>min</th>\n",
       "      <th>1%</th>\n",
       "      <th>5%</th>\n",
       "      <th>10%</th>\n",
       "      <th>25%</th>\n",
       "      <th>50%</th>\n",
       "      <th>75%</th>\n",
       "      <th>95%</th>\n",
       "      <th>99%</th>\n",
       "      <th>max</th>\n",
       "    </tr>\n",
       "  </thead>\n",
       "  <tbody>\n",
       "    <tr>\n",
       "      <th>MarketID</th>\n",
       "      <td>548.0</td>\n",
       "      <td>5.715328</td>\n",
       "      <td>2.877001</td>\n",
       "      <td>1.00</td>\n",
       "      <td>1.0000</td>\n",
       "      <td>1.0000</td>\n",
       "      <td>2.000</td>\n",
       "      <td>3.000</td>\n",
       "      <td>6.0</td>\n",
       "      <td>8.0000</td>\n",
       "      <td>10.000</td>\n",
       "      <td>10.0000</td>\n",
       "      <td>10.00</td>\n",
       "    </tr>\n",
       "    <tr>\n",
       "      <th>LocationID</th>\n",
       "      <td>548.0</td>\n",
       "      <td>479.656934</td>\n",
       "      <td>287.973679</td>\n",
       "      <td>1.00</td>\n",
       "      <td>2.0000</td>\n",
       "      <td>7.3500</td>\n",
       "      <td>101.000</td>\n",
       "      <td>216.000</td>\n",
       "      <td>504.0</td>\n",
       "      <td>708.0000</td>\n",
       "      <td>913.650</td>\n",
       "      <td>919.0000</td>\n",
       "      <td>920.00</td>\n",
       "    </tr>\n",
       "    <tr>\n",
       "      <th>AgeOfStore</th>\n",
       "      <td>548.0</td>\n",
       "      <td>8.503650</td>\n",
       "      <td>6.638345</td>\n",
       "      <td>1.00</td>\n",
       "      <td>1.0000</td>\n",
       "      <td>1.0000</td>\n",
       "      <td>1.000</td>\n",
       "      <td>4.000</td>\n",
       "      <td>7.0</td>\n",
       "      <td>12.0000</td>\n",
       "      <td>23.000</td>\n",
       "      <td>27.0000</td>\n",
       "      <td>28.00</td>\n",
       "    </tr>\n",
       "    <tr>\n",
       "      <th>Promotion</th>\n",
       "      <td>548.0</td>\n",
       "      <td>2.029197</td>\n",
       "      <td>0.810729</td>\n",
       "      <td>1.00</td>\n",
       "      <td>1.0000</td>\n",
       "      <td>1.0000</td>\n",
       "      <td>1.000</td>\n",
       "      <td>1.000</td>\n",
       "      <td>2.0</td>\n",
       "      <td>3.0000</td>\n",
       "      <td>3.000</td>\n",
       "      <td>3.0000</td>\n",
       "      <td>3.00</td>\n",
       "    </tr>\n",
       "    <tr>\n",
       "      <th>week</th>\n",
       "      <td>548.0</td>\n",
       "      <td>2.500000</td>\n",
       "      <td>1.119055</td>\n",
       "      <td>1.00</td>\n",
       "      <td>1.0000</td>\n",
       "      <td>1.0000</td>\n",
       "      <td>1.000</td>\n",
       "      <td>1.750</td>\n",
       "      <td>2.5</td>\n",
       "      <td>3.2500</td>\n",
       "      <td>4.000</td>\n",
       "      <td>4.0000</td>\n",
       "      <td>4.00</td>\n",
       "    </tr>\n",
       "    <tr>\n",
       "      <th>SalesInThousands</th>\n",
       "      <td>548.0</td>\n",
       "      <td>53.466204</td>\n",
       "      <td>16.755216</td>\n",
       "      <td>17.34</td>\n",
       "      <td>24.3154</td>\n",
       "      <td>30.6215</td>\n",
       "      <td>35.412</td>\n",
       "      <td>42.545</td>\n",
       "      <td>50.2</td>\n",
       "      <td>60.4775</td>\n",
       "      <td>88.458</td>\n",
       "      <td>94.6738</td>\n",
       "      <td>99.65</td>\n",
       "    </tr>\n",
       "  </tbody>\n",
       "</table>\n",
       "</div>"
      ],
      "text/plain": [
       "                  count        mean         std    min       1%       5%  \\\n",
       "MarketID          548.0    5.715328    2.877001   1.00   1.0000   1.0000   \n",
       "LocationID        548.0  479.656934  287.973679   1.00   2.0000   7.3500   \n",
       "AgeOfStore        548.0    8.503650    6.638345   1.00   1.0000   1.0000   \n",
       "Promotion         548.0    2.029197    0.810729   1.00   1.0000   1.0000   \n",
       "week              548.0    2.500000    1.119055   1.00   1.0000   1.0000   \n",
       "SalesInThousands  548.0   53.466204   16.755216  17.34  24.3154  30.6215   \n",
       "\n",
       "                      10%      25%    50%       75%      95%       99%     max  \n",
       "MarketID            2.000    3.000    6.0    8.0000   10.000   10.0000   10.00  \n",
       "LocationID        101.000  216.000  504.0  708.0000  913.650  919.0000  920.00  \n",
       "AgeOfStore          1.000    4.000    7.0   12.0000   23.000   27.0000   28.00  \n",
       "Promotion           1.000    1.000    2.0    3.0000    3.000    3.0000    3.00  \n",
       "week                1.000    1.750    2.5    3.2500    4.000    4.0000    4.00  \n",
       "SalesInThousands   35.412   42.545   50.2   60.4775   88.458   94.6738   99.65  "
      ]
     },
     "execution_count": 36,
     "metadata": {},
     "output_type": "execute_result"
    }
   ],
   "source": [
    "data.describe(percentiles=[0.01,0.05,0.10,0.25,0.50,0.75,0.95,0.99]).T"
   ]
  },
  {
   "cell_type": "markdown",
   "id": "f2aa8e70",
   "metadata": {},
   "source": [
    "## Summary"
   ]
  },
  {
   "cell_type": "markdown",
   "id": "95895f80",
   "metadata": {},
   "source": [
    "Data is clean, no missing values, no outlier detected, no strange values, and no duplicated values"
   ]
  },
  {
   "cell_type": "markdown",
   "id": "b053baed",
   "metadata": {},
   "source": [
    "# Business Insights"
   ]
  },
  {
   "cell_type": "markdown",
   "id": "36a45b23",
   "metadata": {},
   "source": [
    "## Sales By Promotion"
   ]
  },
  {
   "cell_type": "code",
   "execution_count": 42,
   "id": "752246f5",
   "metadata": {
    "ExecuteTime": {
     "end_time": "2022-07-11T06:47:47.706183Z",
     "start_time": "2022-07-11T06:47:47.494827Z"
    }
   },
   "outputs": [
    {
     "data": {
      "text/plain": [
       "Text(0.5, 1.0, 'Total Sales Gained Each Promotion')"
      ]
     },
     "execution_count": 42,
     "metadata": {},
     "output_type": "execute_result"
    },
    {
     "data": {
      "image/png": "[encoded data removed]",
      "text/plain": [
       "<Figure size 600x400 with 1 Axes>"
      ]
     },
     "metadata": {},
     "output_type": "display_data"
    }
   ],
   "source": [
    "plt.figure(figsize=(6,4))\n",
    "sns.barplot(x='Promotion', y='SalesInThousands', palette='viridis',\n",
    "            data=pd.DataFrame(data.groupby('Promotion').sum()['SalesInThousands']).reset_index())\n",
    "plt.title('Total Sales Gained Each Promotion', fontsize=12)"
   ]
  },
  {
   "cell_type": "markdown",
   "id": "637ff559",
   "metadata": {},
   "source": [
    "## Market Sizes Across Different Promotions"
   ]
  },
  {
   "cell_type": "code",
   "execution_count": 43,
   "id": "3fbef063",
   "metadata": {
    "ExecuteTime": {
     "end_time": "2022-07-11T06:49:32.362716Z",
     "start_time": "2022-07-11T06:49:32.344526Z"
    },
    "scrolled": true
   },
   "outputs": [
    {
     "data": {
      "text/html": [
       "<div>\n",
       "<style scoped>\n",
       "    .dataframe tbody tr th:only-of-type {\n",
       "        vertical-align: middle;\n",
       "    }\n",
       "\n",
       "    .dataframe tbody tr th {\n",
       "        vertical-align: top;\n",
       "    }\n",
       "\n",
       "    .dataframe thead th {\n",
       "        text-align: right;\n",
       "    }\n",
       "</style>\n",
       "<table border=\"1\" class=\"dataframe\">\n",
       "  <thead>\n",
       "    <tr style=\"text-align: right;\">\n",
       "      <th>MarketSize</th>\n",
       "      <th>Large</th>\n",
       "      <th>Medium</th>\n",
       "      <th>Small</th>\n",
       "    </tr>\n",
       "    <tr>\n",
       "      <th>Promotion</th>\n",
       "      <th></th>\n",
       "      <th></th>\n",
       "      <th></th>\n",
       "    </tr>\n",
       "  </thead>\n",
       "  <tbody>\n",
       "    <tr>\n",
       "      <th>1</th>\n",
       "      <td>56</td>\n",
       "      <td>96</td>\n",
       "      <td>20</td>\n",
       "    </tr>\n",
       "    <tr>\n",
       "      <th>2</th>\n",
       "      <td>64</td>\n",
       "      <td>108</td>\n",
       "      <td>16</td>\n",
       "    </tr>\n",
       "    <tr>\n",
       "      <th>3</th>\n",
       "      <td>48</td>\n",
       "      <td>116</td>\n",
       "      <td>24</td>\n",
       "    </tr>\n",
       "  </tbody>\n",
       "</table>\n",
       "</div>"
      ],
      "text/plain": [
       "MarketSize  Large  Medium  Small\n",
       "Promotion                       \n",
       "1              56      96     20\n",
       "2              64     108     16\n",
       "3              48     116     24"
      ]
     },
     "execution_count": 43,
     "metadata": {},
     "output_type": "execute_result"
    }
   ],
   "source": [
    "# Using unstack\n",
    "promotion_x_marketsize = data.groupby(['Promotion', 'MarketSize']).count()['MarketID'].unstack('MarketSize')\n",
    "promotion_x_marketsize"
   ]
  },
  {
   "cell_type": "code",
   "execution_count": 55,
   "id": "875168b0",
   "metadata": {
    "ExecuteTime": {
     "end_time": "2022-07-11T06:51:58.143743Z",
     "start_time": "2022-07-11T06:51:57.842224Z"
    }
   },
   "outputs": [
    {
     "data": {
      "image/png": "[encoded data removed]",
      "text/plain": [
       "<Figure size 600x600 with 1 Axes>"
      ]
     },
     "metadata": {},
     "output_type": "display_data"
    }
   ],
   "source": [
    "# Put this into a plot\n",
    "\n",
    "cmap = sns.color_palette(\"light:b\", as_cmap=True)\n",
    "ax = data.groupby(['Promotion', 'MarketSize']).count()['MarketID'].unstack('MarketSize').plot(\n",
    "    kind='bar',\n",
    "    figsize=(6,6),\n",
    "    grid=True,\n",
    "    cmap=cmap)\n",
    "\n",
    "ax.set_ylabel('Market Size Count', fontsize=8)\n",
    "ax.set_title('Breakdowns of Market Sizes Across Different Promotions', fontsize=15)\n",
    "plt.ylim(0,170)\n",
    "plt.show()"
   ]
  },
  {
   "cell_type": "markdown",
   "id": "d48b26af",
   "metadata": {},
   "source": [
    "## Overall Distributions Store Ages"
   ]
  },
  {
   "cell_type": "code",
   "execution_count": 57,
   "id": "51524a07",
   "metadata": {
    "ExecuteTime": {
     "end_time": "2022-07-11T06:53:24.846788Z",
     "start_time": "2022-07-11T06:53:24.436408Z"
    }
   },
   "outputs": [
    {
     "data": {
      "image/png": "[encoded data removed]",
      "text/plain": [
       "<Figure size 800x600 with 1 Axes>"
      ]
     },
     "metadata": {},
     "output_type": "display_data"
    }
   ],
   "source": [
    "# Store Age Distribution\n",
    "ax = data.groupby('AgeOfStore').count()['MarketID'].plot(\n",
    "    kind='bar', \n",
    "    figsize=(8,6),\n",
    "    grid=True)\n",
    "\n",
    "ax.set_xlabel('age')\n",
    "ax.set_ylabel('count')\n",
    "ax.set_title('Overall Distributions Store Ages')\n",
    "\n",
    "plt.show()"
   ]
  },
  {
   "cell_type": "code",
   "execution_count": 60,
   "id": "806f21e5",
   "metadata": {
    "ExecuteTime": {
     "end_time": "2022-07-11T06:54:48.001670Z",
     "start_time": "2022-07-11T06:54:47.662331Z"
    }
   },
   "outputs": [
    {
     "data": {
      "text/plain": [
       "Text(0.5, 1.0, 'Sales Distribution by Market ID')"
      ]
     },
     "execution_count": 60,
     "metadata": {},
     "output_type": "execute_result"
    },
    {
     "data": {
      "image/png": "[encoded data removed]",
      "text/plain": [
       "<Figure size 800x600 with 1 Axes>"
      ]
     },
     "metadata": {},
     "output_type": "display_data"
    }
   ],
   "source": [
    "sns.set(rc={'figure.figsize':(8,6)})\n",
    "sns.barplot(x='MarketID', y='SalesInThousands', data=data, ci=None, palette='viridis')\n",
    "plt.xlabel('Market ID', fontsize=10)\n",
    "plt.ylabel('Sales in Thousands', fontsize=10)\n",
    "plt.title('Sales Distribution by Market ID', fontsize=15)"
   ]
  },
  {
   "cell_type": "markdown",
   "id": "d9964f61",
   "metadata": {},
   "source": [
    "# Performing Hypothesis Testing Yeaay!"
   ]
  },
  {
   "cell_type": "code",
   "execution_count": 61,
   "id": "c0a50ffd",
   "metadata": {
    "ExecuteTime": {
     "end_time": "2022-07-11T06:55:32.512499Z",
     "start_time": "2022-07-11T06:55:32.488918Z"
    }
   },
   "outputs": [
    {
     "name": "stdout",
     "output_type": "stream",
     "text": [
      "means: Promotion\n",
      "1    58.099012\n",
      "2    47.329415\n",
      "3    55.364468\n",
      "Name: SalesInThousands, dtype: float64\n",
      "\n",
      "\n",
      "stds: Promotion\n",
      "1    16.553782\n",
      "2    15.108955\n",
      "3    16.766231\n",
      "Name: SalesInThousands, dtype: float64\n",
      "\n",
      "\n",
      "ns: Promotion\n",
      "1    172\n",
      "2    188\n",
      "3    188\n",
      "Name: SalesInThousands, dtype: int64\n"
     ]
    }
   ],
   "source": [
    "# find means, stds, and ns\n",
    "means = data.groupby('Promotion').mean()['SalesInThousands']\n",
    "stds = data.groupby('Promotion').std()['SalesInThousands']\n",
    "ns = data.groupby('Promotion').count()['SalesInThousands']\n",
    "print('means:', means)\n",
    "print('\\n')\n",
    "print('stds:', stds)\n",
    "print('\\n')\n",
    "print('ns:', ns)"
   ]
  },
  {
   "cell_type": "markdown",
   "id": "f4fef240",
   "metadata": {},
   "source": [
    "## Pvalue and Tvalue"
   ]
  },
  {
   "cell_type": "markdown",
   "id": "43ba28e2",
   "metadata": {
    "ExecuteTime": {
     "end_time": "2022-07-11T06:56:20.026724Z",
     "start_time": "2022-07-11T06:56:20.015130Z"
    }
   },
   "source": [
    "`T-Value` <br>\n",
    "The t-value measures the degree of difference relative to the variation in our data groups. Large t-values indicate a higher degree of difference between the grups.\n",
    "\n",
    "`P-Value` <br>\n",
    "P-value measures the probability that the results would occur by random chance. Therefore the smaller the p-value is, the more statistically significant difference there will be between the two groups\n",
    "\n"
   ]
  },
  {
   "cell_type": "markdown",
   "id": "b7f775cd",
   "metadata": {},
   "source": [
    "## Comparing Promotion 1 vs Promotion 2 in an Hypothesis Test"
   ]
  },
  {
   "cell_type": "markdown",
   "id": "93e77756",
   "metadata": {},
   "source": [
    "H0: Promotion 1 and Promotion 2 **have same** Sales Revenue <br>\n",
    "H1: Promotion 1 and Promotion 2 **do not have same** Sales Revenue"
   ]
  },
  {
   "cell_type": "code",
   "execution_count": 66,
   "id": "5d941455",
   "metadata": {
    "ExecuteTime": {
     "end_time": "2022-07-11T06:57:51.858274Z",
     "start_time": "2022-07-11T06:57:51.847664Z"
    }
   },
   "outputs": [],
   "source": [
    "t_1_vs_2 = (means.iloc[0] - means.iloc[1])/np.sqrt((stds.iloc[0]**2/ns.iloc[0]) + (stds.iloc[1]**2/ns.iloc[1]))\n",
    "\n",
    "df_1_vs_1 = ns.iloc[0] + ns.iloc[1] - 2\n",
    "\n",
    "p_1_vs_2 = (1 - stats.t.cdf(t_1_vs_2, df=df_1_vs_1))*2"
   ]
  },
  {
   "cell_type": "code",
   "execution_count": 69,
   "id": "bfe20cab",
   "metadata": {
    "ExecuteTime": {
     "end_time": "2022-07-11T07:03:43.536036Z",
     "start_time": "2022-07-11T07:03:43.528804Z"
    }
   },
   "outputs": [
    {
     "name": "stdout",
     "output_type": "stream",
     "text": [
      "P-Value : 0.0000\n",
      "Sufficient to reject H0\n"
     ]
    }
   ],
   "source": [
    "print('P-Value : {0:0.4f}'.format(p_1_vs_2))\n",
    "if p_1_vs_2 >= 0.05:\n",
    "    print('Insufficient to reject H0')\n",
    "else :\n",
    "    print('Sufficient to reject H0')"
   ]
  },
  {
   "cell_type": "code",
   "execution_count": 67,
   "id": "5490bba2",
   "metadata": {
    "ExecuteTime": {
     "end_time": "2022-07-11T07:03:00.304313Z",
     "start_time": "2022-07-11T07:03:00.294451Z"
    }
   },
   "outputs": [
    {
     "name": "stdout",
     "output_type": "stream",
     "text": [
      "t-test(1 vs 2): 6.427528670907475\n",
      "Pvalue(1 vs 2): 4.143296816749853e-10\n"
     ]
    }
   ],
   "source": [
    "print('t-test(1 vs 2):', t_1_vs_2)\n",
    "print('Pvalue(1 vs 2):', p_1_vs_2)"
   ]
  },
  {
   "cell_type": "markdown",
   "id": "bae7f819",
   "metadata": {},
   "source": [
    "Our P-Value is close to 0 which suggests that there is good evidence to **REJECT the Null Hypothesis**. Meaning `there is a statistical difference between the two groups`. Our threshold rejectings the Null is usually less than 0.05.\n",
    "\n",
    "Our t-test shows that the marketing performances for these two groups are significantly different and that **promotion group 1 outperforms promotion group 2**"
   ]
  },
  {
   "cell_type": "markdown",
   "id": "b472766f",
   "metadata": {},
   "source": [
    "## Comparing Promotion 1 vs Promotion 3 in an Hypothesis Test"
   ]
  },
  {
   "cell_type": "markdown",
   "id": "1ca7d186",
   "metadata": {},
   "source": [
    "H0: Promotion 1 and Promotion 3 **have same** Sales Revenue <br>\n",
    "H1: Promotion 1 and Promotion 3 **do not have same** Sales Revenue"
   ]
  },
  {
   "cell_type": "code",
   "execution_count": 71,
   "id": "2e37c7ca",
   "metadata": {
    "ExecuteTime": {
     "end_time": "2022-07-11T07:17:33.984292Z",
     "start_time": "2022-07-11T07:17:33.975586Z"
    }
   },
   "outputs": [],
   "source": [
    "t_1_vs_3 = (\n",
    "    means.iloc[0] - means.iloc[2])/np.sqrt((stds.iloc[0]**2/ns.iloc[0]) + (stds.iloc[2]**2/ns.iloc[2]))\n",
    "\n",
    "df_1_vs_3 = ns.iloc[0] + ns.iloc[1] - 2\n",
    "\n",
    "p_1_vs_3 = (1 - stats.t.cdf(t_1_vs_3, df=df_1_vs_3))*2"
   ]
  },
  {
   "cell_type": "code",
   "execution_count": 72,
   "id": "8e1b3e0d",
   "metadata": {
    "ExecuteTime": {
     "end_time": "2022-07-11T07:17:48.059291Z",
     "start_time": "2022-07-11T07:17:48.051346Z"
    }
   },
   "outputs": [
    {
     "name": "stdout",
     "output_type": "stream",
     "text": [
      "P-Value : 0.1206\n",
      "Insufficient to reject H0\n"
     ]
    }
   ],
   "source": [
    "print('P-Value : {0:0.4f}'.format(p_1_vs_3))\n",
    "if p_1_vs_3 >= 0.05:\n",
    "    print('Insufficient to reject H0')\n",
    "else :\n",
    "    print('Sufficient to reject H0')"
   ]
  },
  {
   "cell_type": "code",
   "execution_count": 73,
   "id": "4b36f9a0",
   "metadata": {
    "ExecuteTime": {
     "end_time": "2022-07-11T07:18:27.746371Z",
     "start_time": "2022-07-11T07:18:27.739295Z"
    }
   },
   "outputs": [
    {
     "name": "stdout",
     "output_type": "stream",
     "text": [
      "t-test(1 vs 3): 1.556022430775863\n",
      "Pvalue(1 vs 3): 0.12058631176434842\n"
     ]
    }
   ],
   "source": [
    "print('t-test(1 vs 3):', t_1_vs_3)\n",
    "print('Pvalue(1 vs 3):', p_1_vs_3)"
   ]
  },
  {
   "cell_type": "markdown",
   "id": "66995e25",
   "metadata": {},
   "source": [
    "## Comparing Promotion 2 vs Promotion 3 in an Hypothesis Test"
   ]
  },
  {
   "cell_type": "markdown",
   "id": "bbeae84d",
   "metadata": {},
   "source": [
    "H0: Promotion 2 and Promotion 3 **have same** Sales Revenue <br>\n",
    "H1: Promotion 2 and Promotion 3 **do not have same** Sales Revenue"
   ]
  },
  {
   "cell_type": "code",
   "execution_count": 74,
   "id": "f66e1cf4",
   "metadata": {
    "ExecuteTime": {
     "end_time": "2022-07-11T07:25:09.674932Z",
     "start_time": "2022-07-11T07:25:09.668915Z"
    }
   },
   "outputs": [],
   "source": [
    "t_2_vs_3 = (\n",
    "    means.iloc[1] - means.iloc[2])/np.sqrt((stds.iloc[1]**2/ns.iloc[1]) + (stds.iloc[2]**2/ns.iloc[2]))\n",
    "\n",
    "df_2_vs_3 = ns.iloc[0] + ns.iloc[1] - 2\n",
    "\n",
    "p_2_vs_3 = (1 - stats.t.cdf(t_2_vs_3, df=df_2_vs_3))*2"
   ]
  },
  {
   "cell_type": "code",
   "execution_count": 75,
   "id": "c39778b7",
   "metadata": {
    "ExecuteTime": {
     "end_time": "2022-07-11T07:25:22.423407Z",
     "start_time": "2022-07-11T07:25:22.416049Z"
    }
   },
   "outputs": [
    {
     "name": "stdout",
     "output_type": "stream",
     "text": [
      "P-Value : 2.0000\n",
      "Insufficient to reject H0\n"
     ]
    }
   ],
   "source": [
    "print('P-Value : {0:0.4f}'.format(p_2_vs_3))\n",
    "if p_2_vs_3 >= 0.05:\n",
    "    print('Insufficient to reject H0')\n",
    "else :\n",
    "    print('Sufficient to reject H0')"
   ]
  },
  {
   "cell_type": "markdown",
   "id": "8deec7af",
   "metadata": {},
   "source": [
    "## Anova"
   ]
  },
  {
   "cell_type": "code",
   "execution_count": 77,
   "id": "f1218019",
   "metadata": {
    "ExecuteTime": {
     "end_time": "2022-07-11T07:29:21.641962Z",
     "start_time": "2022-07-11T07:29:21.633454Z"
    }
   },
   "outputs": [],
   "source": [
    "# Step 1\n",
    "# H0 : Avg SalesInThousands is the same for all promotion\n",
    "# H1 : Avg SalesInThousands is not the same for all promotion\n",
    "\n",
    "# Langkah 2\n",
    "df_promo1 = data[data['Promotion'] == 1]\n",
    "df_promo2 = data[data['Promotion'] == 2]\n",
    "df_promo3 = data[data['Promotion'] == 3]"
   ]
  },
  {
   "cell_type": "code",
   "execution_count": 76,
   "id": "516095c1",
   "metadata": {
    "ExecuteTime": {
     "end_time": "2022-07-11T07:27:21.645329Z",
     "start_time": "2022-07-11T07:27:21.633881Z"
    },
    "scrolled": true
   },
   "outputs": [
    {
     "data": {
      "text/plain": [
       "Promotion\n",
       "1    58.099012\n",
       "2    47.329415\n",
       "3    55.364468\n",
       "Name: SalesInThousands, dtype: float64"
      ]
     },
     "execution_count": 76,
     "metadata": {},
     "output_type": "execute_result"
    }
   ],
   "source": [
    "data.groupby(['Promotion'])['SalesInThousands'].mean()"
   ]
  },
  {
   "cell_type": "code",
   "execution_count": 81,
   "id": "2281d637",
   "metadata": {
    "ExecuteTime": {
     "end_time": "2022-07-11T07:31:08.959047Z",
     "start_time": "2022-07-11T07:31:08.950981Z"
    }
   },
   "outputs": [],
   "source": [
    "# Step 3\n",
    "anova = stats.f_oneway(df_promo1['Promotion'],df_promo2['Promotion'],df_promo3['Promotion'])"
   ]
  },
  {
   "cell_type": "code",
   "execution_count": 84,
   "id": "e9beda94",
   "metadata": {
    "ExecuteTime": {
     "end_time": "2022-07-11T07:36:05.236379Z",
     "start_time": "2022-07-11T07:36:05.228624Z"
    }
   },
   "outputs": [
    {
     "name": "stdout",
     "output_type": "stream",
     "text": [
      "0.0\n",
      "Sufficient Reject H0\n"
     ]
    }
   ],
   "source": [
    "pvalue = anova.pvalue\n",
    "print(pvalue)\n",
    "if pvalue >= 0.05:\n",
    "    print('Insufficient Reject H0')\n",
    "else:\n",
    "    print('Sufficient Reject H0')"
   ]
  },
  {
   "cell_type": "markdown",
   "id": "e4a2202a",
   "metadata": {},
   "source": [
    "## Summary & Insights"
   ]
  },
  {
   "cell_type": "markdown",
   "id": "620c6bd7",
   "metadata": {},
   "source": [
    "- `Promotion 1` **is outperform** and validated by statistic test\n",
    "- We have to do analysis why `Promotion 1` better and brings more sales rather than `Promotion 2`"
   ]
  }
 ],
 "metadata": {
  "kernelspec": {
   "display_name": "Python 3 (ipykernel)",
   "language": "python",
   "name": "python3"
  },
  "language_info": {
   "codemirror_mode": {
    "name": "ipython",
    "version": 3
   },
   "file_extension": ".py",
   "mimetype": "text/x-python",
   "name": "python",
   "nbconvert_exporter": "python",
   "pygments_lexer": "ipython3",
   "version": "3.9.7"
  },
  "toc": {
   "base_numbering": 1,
   "nav_menu": {},
   "number_sections": true,
   "sideBar": true,
   "skip_h1_title": false,
   "title_cell": "Table of Contents",
   "title_sidebar": "Contents",
   "toc_cell": false,
   "toc_position": {},
   "toc_section_display": true,
   "toc_window_display": true
  }
 },
 "nbformat": 4,
 "nbformat_minor": 5
}
